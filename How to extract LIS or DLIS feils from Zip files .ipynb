{
 "cells": [
  {
   "cell_type": "code",
   "execution_count": null,
   "id": "3a4cc7a9",
   "metadata": {},
   "outputs": [],
   "source": [
    "import os\n",
    "import zipfile\n",
    "\n",
    "folder_path = r\"D:/FORTH semester/AI project/Collecting Data/Well logging/large_zip_file\"\n",
    "output_folder = r\"D:/FORTH semester/AI project/Collecting Data/Well logging/extracted_files\"\n",
    "\n",
    "# Create output folders if they don't exist\n",
    "dlis_folder = os.path.join(output_folder, 'DLIS')\n",
    "lis_folder = os.path.join(output_folder, 'LIS')\n",
    "if not os.path.exists(dlis_folder):\n",
    "    os.makedirs(dlis_folder)\n",
    "if not os.path.exists(lis_folder):\n",
    "    os.makedirs(lis_folder)\n",
    "\n",
    "# Loop through all zip files in the folder\n",
    "for file_name in os.listdir(folder_path):\n",
    "    if file_name.endswith('.zip'):\n",
    "        # Open the zip file\n",
    "        with zipfile.ZipFile(os.path.join(folder_path, file_name), 'r') as zip_ref:\n",
    "            # Loop through all files in the zip file\n",
    "            for inner_file in zip_ref.namelist():\n",
    "                # Check if the file is a DLIS or LIS file\n",
    "                if inner_file.endswith('.dlis'):\n",
    "                    # Extract the file to the DLIS folder\n",
    "                    zip_ref.extract(inner_file, dlis_folder)\n",
    "                elif inner_file.endswith('.lis'):\n",
    "                    # Extract the file to the LIS folder\n",
    "                    zip_ref.extract(inner_file, lis_folder)\n"
   ]
  },
  {
   "cell_type": "code",
   "execution_count": null,
   "id": "99f23e1b",
   "metadata": {},
   "outputs": [],
   "source": []
  }
 ],
 "metadata": {
  "kernelspec": {
   "display_name": "Python 3",
   "language": "python",
   "name": "python3"
  },
  "language_info": {
   "codemirror_mode": {
    "name": "ipython",
    "version": 3
   },
   "file_extension": ".py",
   "mimetype": "text/x-python",
   "name": "python",
   "nbconvert_exporter": "python",
   "pygments_lexer": "ipython3",
   "version": "3.8.8"
  }
 },
 "nbformat": 4,
 "nbformat_minor": 5
}
